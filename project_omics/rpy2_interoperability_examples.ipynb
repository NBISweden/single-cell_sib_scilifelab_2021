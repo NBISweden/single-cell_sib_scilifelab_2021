{
 "cells": [
  {
   "cell_type": "markdown",
   "id": "smart-chemistry",
   "metadata": {},
   "source": [
    "# Python/R interoperability in Jupyter Notebooks"
   ]
  },
  {
   "cell_type": "markdown",
   "id": "drawn-easter",
   "metadata": {},
   "source": [
    "In this notebook, we demonstrate how to use functionalities in the [`rpy2`](https://rpy2.github.io/) package to use R code within python notebooks and we show examples for conversions between single-cell data object containers across languages."
   ]
  },
  {
   "cell_type": "code",
   "execution_count": 1,
   "id": "curious-decision",
   "metadata": {},
   "outputs": [],
   "source": [
    "import pandas as pd\n",
    "import numpy as np\n",
    "import scanpy as sc\n",
    "import anndata "
   ]
  },
  {
   "cell_type": "markdown",
   "id": "filled-stream",
   "metadata": {},
   "source": [
    "Let's set up `rpy2` to use R functions and chunks within this python notebook and conversion between `anndata` and `SingleCellExperiment` objects with [`anndata2ri`](https://github.com/theislab/anndata2ri). "
   ]
  },
  {
   "cell_type": "code",
   "execution_count": 2,
   "id": "tired-opportunity",
   "metadata": {},
   "outputs": [],
   "source": [
    "import anndata2ri\n",
    "anndata2ri.activate() ## activate the conversion before you load the extension\n",
    "%load_ext rpy2.ipython"
   ]
  },
  {
   "cell_type": "code",
   "execution_count": 3,
   "id": "dress-religion",
   "metadata": {},
   "outputs": [],
   "source": [
    "import rpy2.rinterface_lib.callbacks\n",
    "import logging"
   ]
  },
  {
   "cell_type": "markdown",
   "id": "welcome-montgomery",
   "metadata": {},
   "source": [
    "Let's start by loading one of our anndata objects"
   ]
  },
  {
   "cell_type": "code",
   "execution_count": 6,
   "id": "postal-sessions",
   "metadata": {},
   "outputs": [],
   "source": [
    "data_dir = '/home/jovyan/mount/gdrive/sc-multiomics-course-2021/processed_data/input/gr2_matched_vertical//'"
   ]
  },
  {
   "cell_type": "code",
   "execution_count": 9,
   "id": "architectural-haiti",
   "metadata": {},
   "outputs": [],
   "source": [
    "adata = sc.read_h5ad(\"{d}/Multiome_RNA_clean_SCE.h5ad\".format(d=data_dir))"
   ]
  },
  {
   "cell_type": "code",
   "execution_count": 11,
   "id": "least-crest",
   "metadata": {},
   "outputs": [
    {
     "data": {
      "text/plain": [
       "AnnData object with n_obs × n_vars = 8981 × 34104\n",
       "    obs: 'Sample.ID', 'Sample.Age', 'Sample.Batch', 'Cell.Barcode', 'RNA.Counts', 'RNA.Features', 'Dissociation.ID', 'percentMT', 'percentRibo', 'CR_Estimated.number.of.cells', 'clusterID', 'cluster_name', 'cluster_name_long', 'Assay', 'in_GluN_trajectory'\n",
       "    var: 'gene_id', 'gene_type', 'gene_name'"
      ]
     },
     "execution_count": 11,
     "metadata": {},
     "output_type": "execute_result"
    }
   ],
   "source": [
    "adata"
   ]
  },
  {
   "cell_type": "markdown",
   "id": "historical-narrow",
   "metadata": {},
   "source": [
    "### Basic rpy2 extension usage\n",
    "\n",
    "With the `rpy2` extension for jupyter notebooks, we can use R by starting any chunk with `%%R`"
   ]
  },
  {
   "cell_type": "code",
   "execution_count": 13,
   "id": "cardiovascular-stadium",
   "metadata": {},
   "outputs": [
    {
     "name": "stdout",
     "output_type": "stream",
     "text": [
      "[1] \"hello, I'm using R!\"\n"
     ]
    }
   ],
   "source": [
    "%%R\n",
    "my.string <- \"hello, I'm using R!\"\n",
    "print(my.string)"
   ]
  },
  {
   "cell_type": "markdown",
   "id": "premium-heart",
   "metadata": {},
   "source": [
    "We can move objects between python and R using the `-i` and `-o` options "
   ]
  },
  {
   "cell_type": "code",
   "execution_count": 15,
   "id": "downtown-shelter",
   "metadata": {},
   "outputs": [
    {
     "data": {
      "text/html": [
       "<div>\n",
       "<style scoped>\n",
       "    .dataframe tbody tr th:only-of-type {\n",
       "        vertical-align: middle;\n",
       "    }\n",
       "\n",
       "    .dataframe tbody tr th {\n",
       "        vertical-align: top;\n",
       "    }\n",
       "\n",
       "    .dataframe thead th {\n",
       "        text-align: right;\n",
       "    }\n",
       "</style>\n",
       "<table border=\"1\" class=\"dataframe\">\n",
       "  <thead>\n",
       "    <tr style=\"text-align: right;\">\n",
       "      <th></th>\n",
       "      <th>Sample.ID</th>\n",
       "      <th>Sample.Age</th>\n",
       "      <th>Sample.Batch</th>\n",
       "      <th>Cell.Barcode</th>\n",
       "      <th>RNA.Counts</th>\n",
       "      <th>RNA.Features</th>\n",
       "      <th>Dissociation.ID</th>\n",
       "      <th>percentMT</th>\n",
       "      <th>percentRibo</th>\n",
       "      <th>CR_Estimated.number.of.cells</th>\n",
       "      <th>clusterID</th>\n",
       "      <th>cluster_name</th>\n",
       "      <th>cluster_name_long</th>\n",
       "      <th>Assay</th>\n",
       "      <th>in_GluN_trajectory</th>\n",
       "    </tr>\n",
       "  </thead>\n",
       "  <tbody>\n",
       "    <tr>\n",
       "      <th>hft_ctx_w21_dc1r3_r1_AAACAGCCAGCAATAA</th>\n",
       "      <td>hft_ctx_w21_dc1r3_r1</td>\n",
       "      <td>pcw21</td>\n",
       "      <td>b2020_11</td>\n",
       "      <td>AAACAGCCAGCAATAA</td>\n",
       "      <td>2494</td>\n",
       "      <td>1435</td>\n",
       "      <td>A</td>\n",
       "      <td>0.000796</td>\n",
       "      <td>0.017516</td>\n",
       "      <td>3534</td>\n",
       "      <td>c10</td>\n",
       "      <td>GluN5</td>\n",
       "      <td>Glutamatergic neuron 5</td>\n",
       "      <td>Multiome_RNA</td>\n",
       "      <td>True</td>\n",
       "    </tr>\n",
       "    <tr>\n",
       "      <th>hft_ctx_w21_dc1r3_r1_AAACAGCCAGCTCATA</th>\n",
       "      <td>hft_ctx_w21_dc1r3_r1</td>\n",
       "      <td>pcw21</td>\n",
       "      <td>b2020_11</td>\n",
       "      <td>AAACAGCCAGCTCATA</td>\n",
       "      <td>2257</td>\n",
       "      <td>1288</td>\n",
       "      <td>A</td>\n",
       "      <td>0.012798</td>\n",
       "      <td>0.033098</td>\n",
       "      <td>3534</td>\n",
       "      <td>c2</td>\n",
       "      <td>IN1</td>\n",
       "      <td>Interneuron 1</td>\n",
       "      <td>Multiome_RNA</td>\n",
       "      <td>False</td>\n",
       "    </tr>\n",
       "    <tr>\n",
       "      <th>hft_ctx_w21_dc1r3_r1_AAACATGCACGTTACA</th>\n",
       "      <td>hft_ctx_w21_dc1r3_r1</td>\n",
       "      <td>pcw21</td>\n",
       "      <td>b2020_11</td>\n",
       "      <td>AAACATGCACGTTACA</td>\n",
       "      <td>3485</td>\n",
       "      <td>1632</td>\n",
       "      <td>A</td>\n",
       "      <td>0.031098</td>\n",
       "      <td>0.039372</td>\n",
       "      <td>3534</td>\n",
       "      <td>c0</td>\n",
       "      <td>nIPC/GluN1</td>\n",
       "      <td>Neuronal intermediate progenitor cell/Glutamat...</td>\n",
       "      <td>Multiome_RNA</td>\n",
       "      <td>True</td>\n",
       "    </tr>\n",
       "    <tr>\n",
       "      <th>hft_ctx_w21_dc1r3_r1_AAACATGCATAAACCT</th>\n",
       "      <td>hft_ctx_w21_dc1r3_r1</td>\n",
       "      <td>pcw21</td>\n",
       "      <td>b2020_11</td>\n",
       "      <td>AAACATGCATAAACCT</td>\n",
       "      <td>2266</td>\n",
       "      <td>1247</td>\n",
       "      <td>A</td>\n",
       "      <td>0.012319</td>\n",
       "      <td>0.021557</td>\n",
       "      <td>3534</td>\n",
       "      <td>c4</td>\n",
       "      <td>IN2</td>\n",
       "      <td>Interneuron 2</td>\n",
       "      <td>Multiome_RNA</td>\n",
       "      <td>False</td>\n",
       "    </tr>\n",
       "    <tr>\n",
       "      <th>hft_ctx_w21_dc1r3_r1_AAACATGCATTTAAGC</th>\n",
       "      <td>hft_ctx_w21_dc1r3_r1</td>\n",
       "      <td>pcw21</td>\n",
       "      <td>b2020_11</td>\n",
       "      <td>AAACATGCATTTAAGC</td>\n",
       "      <td>2741</td>\n",
       "      <td>1495</td>\n",
       "      <td>A</td>\n",
       "      <td>0.012341</td>\n",
       "      <td>0.020690</td>\n",
       "      <td>3534</td>\n",
       "      <td>c4</td>\n",
       "      <td>IN2</td>\n",
       "      <td>Interneuron 2</td>\n",
       "      <td>Multiome_RNA</td>\n",
       "      <td>False</td>\n",
       "    </tr>\n",
       "  </tbody>\n",
       "</table>\n",
       "</div>"
      ],
      "text/plain": [
       "                                                  Sample.ID Sample.Age  \\\n",
       "hft_ctx_w21_dc1r3_r1_AAACAGCCAGCAATAA  hft_ctx_w21_dc1r3_r1      pcw21   \n",
       "hft_ctx_w21_dc1r3_r1_AAACAGCCAGCTCATA  hft_ctx_w21_dc1r3_r1      pcw21   \n",
       "hft_ctx_w21_dc1r3_r1_AAACATGCACGTTACA  hft_ctx_w21_dc1r3_r1      pcw21   \n",
       "hft_ctx_w21_dc1r3_r1_AAACATGCATAAACCT  hft_ctx_w21_dc1r3_r1      pcw21   \n",
       "hft_ctx_w21_dc1r3_r1_AAACATGCATTTAAGC  hft_ctx_w21_dc1r3_r1      pcw21   \n",
       "\n",
       "                                      Sample.Batch      Cell.Barcode  \\\n",
       "hft_ctx_w21_dc1r3_r1_AAACAGCCAGCAATAA     b2020_11  AAACAGCCAGCAATAA   \n",
       "hft_ctx_w21_dc1r3_r1_AAACAGCCAGCTCATA     b2020_11  AAACAGCCAGCTCATA   \n",
       "hft_ctx_w21_dc1r3_r1_AAACATGCACGTTACA     b2020_11  AAACATGCACGTTACA   \n",
       "hft_ctx_w21_dc1r3_r1_AAACATGCATAAACCT     b2020_11  AAACATGCATAAACCT   \n",
       "hft_ctx_w21_dc1r3_r1_AAACATGCATTTAAGC     b2020_11  AAACATGCATTTAAGC   \n",
       "\n",
       "                                       RNA.Counts  RNA.Features  \\\n",
       "hft_ctx_w21_dc1r3_r1_AAACAGCCAGCAATAA        2494          1435   \n",
       "hft_ctx_w21_dc1r3_r1_AAACAGCCAGCTCATA        2257          1288   \n",
       "hft_ctx_w21_dc1r3_r1_AAACATGCACGTTACA        3485          1632   \n",
       "hft_ctx_w21_dc1r3_r1_AAACATGCATAAACCT        2266          1247   \n",
       "hft_ctx_w21_dc1r3_r1_AAACATGCATTTAAGC        2741          1495   \n",
       "\n",
       "                                      Dissociation.ID  percentMT  percentRibo  \\\n",
       "hft_ctx_w21_dc1r3_r1_AAACAGCCAGCAATAA               A   0.000796     0.017516   \n",
       "hft_ctx_w21_dc1r3_r1_AAACAGCCAGCTCATA               A   0.012798     0.033098   \n",
       "hft_ctx_w21_dc1r3_r1_AAACATGCACGTTACA               A   0.031098     0.039372   \n",
       "hft_ctx_w21_dc1r3_r1_AAACATGCATAAACCT               A   0.012319     0.021557   \n",
       "hft_ctx_w21_dc1r3_r1_AAACATGCATTTAAGC               A   0.012341     0.020690   \n",
       "\n",
       "                                       CR_Estimated.number.of.cells clusterID  \\\n",
       "hft_ctx_w21_dc1r3_r1_AAACAGCCAGCAATAA                          3534       c10   \n",
       "hft_ctx_w21_dc1r3_r1_AAACAGCCAGCTCATA                          3534        c2   \n",
       "hft_ctx_w21_dc1r3_r1_AAACATGCACGTTACA                          3534        c0   \n",
       "hft_ctx_w21_dc1r3_r1_AAACATGCATAAACCT                          3534        c4   \n",
       "hft_ctx_w21_dc1r3_r1_AAACATGCATTTAAGC                          3534        c4   \n",
       "\n",
       "                                      cluster_name  \\\n",
       "hft_ctx_w21_dc1r3_r1_AAACAGCCAGCAATAA        GluN5   \n",
       "hft_ctx_w21_dc1r3_r1_AAACAGCCAGCTCATA          IN1   \n",
       "hft_ctx_w21_dc1r3_r1_AAACATGCACGTTACA   nIPC/GluN1   \n",
       "hft_ctx_w21_dc1r3_r1_AAACATGCATAAACCT          IN2   \n",
       "hft_ctx_w21_dc1r3_r1_AAACATGCATTTAAGC          IN2   \n",
       "\n",
       "                                                                       cluster_name_long  \\\n",
       "hft_ctx_w21_dc1r3_r1_AAACAGCCAGCAATAA                             Glutamatergic neuron 5   \n",
       "hft_ctx_w21_dc1r3_r1_AAACAGCCAGCTCATA                                      Interneuron 1   \n",
       "hft_ctx_w21_dc1r3_r1_AAACATGCACGTTACA  Neuronal intermediate progenitor cell/Glutamat...   \n",
       "hft_ctx_w21_dc1r3_r1_AAACATGCATAAACCT                                      Interneuron 2   \n",
       "hft_ctx_w21_dc1r3_r1_AAACATGCATTTAAGC                                      Interneuron 2   \n",
       "\n",
       "                                              Assay  in_GluN_trajectory  \n",
       "hft_ctx_w21_dc1r3_r1_AAACAGCCAGCAATAA  Multiome_RNA                True  \n",
       "hft_ctx_w21_dc1r3_r1_AAACAGCCAGCTCATA  Multiome_RNA               False  \n",
       "hft_ctx_w21_dc1r3_r1_AAACATGCACGTTACA  Multiome_RNA                True  \n",
       "hft_ctx_w21_dc1r3_r1_AAACATGCATAAACCT  Multiome_RNA               False  \n",
       "hft_ctx_w21_dc1r3_r1_AAACATGCATTTAAGC  Multiome_RNA               False  "
      ]
     },
     "execution_count": 15,
     "metadata": {},
     "output_type": "execute_result"
    }
   ],
   "source": [
    "example_df = adata.obs.head()\n",
    "example_df"
   ]
  },
  {
   "cell_type": "code",
   "execution_count": 19,
   "id": "incorporated-lawyer",
   "metadata": {},
   "outputs": [
    {
     "name": "stdout",
     "output_type": "stream",
     "text": [
      "                                                 Sample.ID Sample.Age\n",
      "hft_ctx_w21_dc1r3_r1_AAACAGCCAGCAATAA hft_ctx_w21_dc1r3_r1      pcw21\n",
      "hft_ctx_w21_dc1r3_r1_AAACAGCCAGCTCATA hft_ctx_w21_dc1r3_r1      pcw21\n",
      "hft_ctx_w21_dc1r3_r1_AAACATGCACGTTACA hft_ctx_w21_dc1r3_r1      pcw21\n",
      "hft_ctx_w21_dc1r3_r1_AAACATGCATAAACCT hft_ctx_w21_dc1r3_r1      pcw21\n",
      "hft_ctx_w21_dc1r3_r1_AAACATGCATTTAAGC hft_ctx_w21_dc1r3_r1      pcw21\n",
      "                                      Sample.Batch     Cell.Barcode RNA.Counts\n",
      "hft_ctx_w21_dc1r3_r1_AAACAGCCAGCAATAA     b2020_11 AAACAGCCAGCAATAA       2494\n",
      "hft_ctx_w21_dc1r3_r1_AAACAGCCAGCTCATA     b2020_11 AAACAGCCAGCTCATA       2257\n",
      "hft_ctx_w21_dc1r3_r1_AAACATGCACGTTACA     b2020_11 AAACATGCACGTTACA       3485\n",
      "hft_ctx_w21_dc1r3_r1_AAACATGCATAAACCT     b2020_11 AAACATGCATAAACCT       2266\n",
      "hft_ctx_w21_dc1r3_r1_AAACATGCATTTAAGC     b2020_11 AAACATGCATTTAAGC       2741\n",
      "                                      RNA.Features Dissociation.ID   percentMT\n",
      "hft_ctx_w21_dc1r3_r1_AAACAGCCAGCAATAA         1435               A 0.000796178\n",
      "hft_ctx_w21_dc1r3_r1_AAACAGCCAGCTCATA         1288               A 0.012797882\n",
      "hft_ctx_w21_dc1r3_r1_AAACATGCACGTTACA         1632               A 0.031098431\n",
      "hft_ctx_w21_dc1r3_r1_AAACATGCATAAACCT         1247               A 0.012318522\n",
      "hft_ctx_w21_dc1r3_r1_AAACATGCATTTAAGC         1495               A 0.012341198\n",
      "                                      percentRibo CR_Estimated.number.of.cells\n",
      "hft_ctx_w21_dc1r3_r1_AAACAGCCAGCAATAA  0.01751592                         3534\n",
      "hft_ctx_w21_dc1r3_r1_AAACAGCCAGCTCATA  0.03309797                         3534\n",
      "hft_ctx_w21_dc1r3_r1_AAACATGCACGTTACA  0.03937232                         3534\n",
      "hft_ctx_w21_dc1r3_r1_AAACATGCATAAACCT  0.02155741                         3534\n",
      "hft_ctx_w21_dc1r3_r1_AAACATGCATTTAAGC  0.02068966                         3534\n",
      "                                      clusterID cluster_name\n",
      "hft_ctx_w21_dc1r3_r1_AAACAGCCAGCAATAA       c10        GluN5\n",
      "hft_ctx_w21_dc1r3_r1_AAACAGCCAGCTCATA        c2          IN1\n",
      "hft_ctx_w21_dc1r3_r1_AAACATGCACGTTACA        c0   nIPC/GluN1\n",
      "hft_ctx_w21_dc1r3_r1_AAACATGCATAAACCT        c4          IN2\n",
      "hft_ctx_w21_dc1r3_r1_AAACATGCATTTAAGC        c4          IN2\n",
      "                                                                                 cluster_name_long\n",
      "hft_ctx_w21_dc1r3_r1_AAACAGCCAGCAATAA                                       Glutamatergic neuron 5\n",
      "hft_ctx_w21_dc1r3_r1_AAACAGCCAGCTCATA                                                Interneuron 1\n",
      "hft_ctx_w21_dc1r3_r1_AAACATGCACGTTACA Neuronal intermediate progenitor cell/Glutamatergic neuron 1\n",
      "hft_ctx_w21_dc1r3_r1_AAACATGCATAAACCT                                                Interneuron 2\n",
      "hft_ctx_w21_dc1r3_r1_AAACATGCATTTAAGC                                                Interneuron 2\n",
      "                                             Assay in_GluN_trajectory\n",
      "hft_ctx_w21_dc1r3_r1_AAACAGCCAGCAATAA Multiome_RNA                  1\n",
      "hft_ctx_w21_dc1r3_r1_AAACAGCCAGCTCATA Multiome_RNA                  0\n",
      "hft_ctx_w21_dc1r3_r1_AAACATGCACGTTACA Multiome_RNA                  1\n",
      "hft_ctx_w21_dc1r3_r1_AAACATGCATAAACCT Multiome_RNA                  0\n",
      "hft_ctx_w21_dc1r3_r1_AAACATGCATTTAAGC Multiome_RNA                  0\n"
     ]
    }
   ],
   "source": [
    "%%R -i example_df\n",
    "head(example_df) \n",
    "## Note that R will try to print full data.frames and it will be hard \n",
    "## to stop if printing thousands of lines! "
   ]
  },
  {
   "cell_type": "code",
   "execution_count": 21,
   "id": "looking-letters",
   "metadata": {},
   "outputs": [],
   "source": [
    "%%R -o example_df_2\n",
    "example_df_2 <- example_df[0:3,]"
   ]
  },
  {
   "cell_type": "code",
   "execution_count": 22,
   "id": "tropical-customs",
   "metadata": {},
   "outputs": [
    {
     "data": {
      "text/html": [
       "<div>\n",
       "<style scoped>\n",
       "    .dataframe tbody tr th:only-of-type {\n",
       "        vertical-align: middle;\n",
       "    }\n",
       "\n",
       "    .dataframe tbody tr th {\n",
       "        vertical-align: top;\n",
       "    }\n",
       "\n",
       "    .dataframe thead th {\n",
       "        text-align: right;\n",
       "    }\n",
       "</style>\n",
       "<table border=\"1\" class=\"dataframe\">\n",
       "  <thead>\n",
       "    <tr style=\"text-align: right;\">\n",
       "      <th></th>\n",
       "      <th>Sample.ID</th>\n",
       "      <th>Sample.Age</th>\n",
       "      <th>Sample.Batch</th>\n",
       "      <th>Cell.Barcode</th>\n",
       "      <th>RNA.Counts</th>\n",
       "      <th>RNA.Features</th>\n",
       "      <th>Dissociation.ID</th>\n",
       "      <th>percentMT</th>\n",
       "      <th>percentRibo</th>\n",
       "      <th>CR_Estimated.number.of.cells</th>\n",
       "      <th>clusterID</th>\n",
       "      <th>cluster_name</th>\n",
       "      <th>cluster_name_long</th>\n",
       "      <th>Assay</th>\n",
       "      <th>in_GluN_trajectory</th>\n",
       "    </tr>\n",
       "  </thead>\n",
       "  <tbody>\n",
       "    <tr>\n",
       "      <th>hft_ctx_w21_dc1r3_r1_AAACAGCCAGCAATAA</th>\n",
       "      <td>hft_ctx_w21_dc1r3_r1</td>\n",
       "      <td>pcw21</td>\n",
       "      <td>b2020_11</td>\n",
       "      <td>AAACAGCCAGCAATAA</td>\n",
       "      <td>2494</td>\n",
       "      <td>1435</td>\n",
       "      <td>A</td>\n",
       "      <td>0.000796</td>\n",
       "      <td>0.017516</td>\n",
       "      <td>3534</td>\n",
       "      <td>c10</td>\n",
       "      <td>GluN5</td>\n",
       "      <td>Glutamatergic neuron 5</td>\n",
       "      <td>Multiome_RNA</td>\n",
       "      <td>1</td>\n",
       "    </tr>\n",
       "    <tr>\n",
       "      <th>hft_ctx_w21_dc1r3_r1_AAACAGCCAGCTCATA</th>\n",
       "      <td>hft_ctx_w21_dc1r3_r1</td>\n",
       "      <td>pcw21</td>\n",
       "      <td>b2020_11</td>\n",
       "      <td>AAACAGCCAGCTCATA</td>\n",
       "      <td>2257</td>\n",
       "      <td>1288</td>\n",
       "      <td>A</td>\n",
       "      <td>0.012798</td>\n",
       "      <td>0.033098</td>\n",
       "      <td>3534</td>\n",
       "      <td>c2</td>\n",
       "      <td>IN1</td>\n",
       "      <td>Interneuron 1</td>\n",
       "      <td>Multiome_RNA</td>\n",
       "      <td>0</td>\n",
       "    </tr>\n",
       "    <tr>\n",
       "      <th>hft_ctx_w21_dc1r3_r1_AAACATGCACGTTACA</th>\n",
       "      <td>hft_ctx_w21_dc1r3_r1</td>\n",
       "      <td>pcw21</td>\n",
       "      <td>b2020_11</td>\n",
       "      <td>AAACATGCACGTTACA</td>\n",
       "      <td>3485</td>\n",
       "      <td>1632</td>\n",
       "      <td>A</td>\n",
       "      <td>0.031098</td>\n",
       "      <td>0.039372</td>\n",
       "      <td>3534</td>\n",
       "      <td>c0</td>\n",
       "      <td>nIPC/GluN1</td>\n",
       "      <td>Neuronal intermediate progenitor cell/Glutamat...</td>\n",
       "      <td>Multiome_RNA</td>\n",
       "      <td>1</td>\n",
       "    </tr>\n",
       "  </tbody>\n",
       "</table>\n",
       "</div>"
      ],
      "text/plain": [
       "                                                  Sample.ID Sample.Age  \\\n",
       "hft_ctx_w21_dc1r3_r1_AAACAGCCAGCAATAA  hft_ctx_w21_dc1r3_r1      pcw21   \n",
       "hft_ctx_w21_dc1r3_r1_AAACAGCCAGCTCATA  hft_ctx_w21_dc1r3_r1      pcw21   \n",
       "hft_ctx_w21_dc1r3_r1_AAACATGCACGTTACA  hft_ctx_w21_dc1r3_r1      pcw21   \n",
       "\n",
       "                                      Sample.Batch      Cell.Barcode  \\\n",
       "hft_ctx_w21_dc1r3_r1_AAACAGCCAGCAATAA     b2020_11  AAACAGCCAGCAATAA   \n",
       "hft_ctx_w21_dc1r3_r1_AAACAGCCAGCTCATA     b2020_11  AAACAGCCAGCTCATA   \n",
       "hft_ctx_w21_dc1r3_r1_AAACATGCACGTTACA     b2020_11  AAACATGCACGTTACA   \n",
       "\n",
       "                                       RNA.Counts  RNA.Features  \\\n",
       "hft_ctx_w21_dc1r3_r1_AAACAGCCAGCAATAA        2494          1435   \n",
       "hft_ctx_w21_dc1r3_r1_AAACAGCCAGCTCATA        2257          1288   \n",
       "hft_ctx_w21_dc1r3_r1_AAACATGCACGTTACA        3485          1632   \n",
       "\n",
       "                                      Dissociation.ID  percentMT  percentRibo  \\\n",
       "hft_ctx_w21_dc1r3_r1_AAACAGCCAGCAATAA               A   0.000796     0.017516   \n",
       "hft_ctx_w21_dc1r3_r1_AAACAGCCAGCTCATA               A   0.012798     0.033098   \n",
       "hft_ctx_w21_dc1r3_r1_AAACATGCACGTTACA               A   0.031098     0.039372   \n",
       "\n",
       "                                       CR_Estimated.number.of.cells clusterID  \\\n",
       "hft_ctx_w21_dc1r3_r1_AAACAGCCAGCAATAA                          3534       c10   \n",
       "hft_ctx_w21_dc1r3_r1_AAACAGCCAGCTCATA                          3534        c2   \n",
       "hft_ctx_w21_dc1r3_r1_AAACATGCACGTTACA                          3534        c0   \n",
       "\n",
       "                                      cluster_name  \\\n",
       "hft_ctx_w21_dc1r3_r1_AAACAGCCAGCAATAA        GluN5   \n",
       "hft_ctx_w21_dc1r3_r1_AAACAGCCAGCTCATA          IN1   \n",
       "hft_ctx_w21_dc1r3_r1_AAACATGCACGTTACA   nIPC/GluN1   \n",
       "\n",
       "                                                                       cluster_name_long  \\\n",
       "hft_ctx_w21_dc1r3_r1_AAACAGCCAGCAATAA                             Glutamatergic neuron 5   \n",
       "hft_ctx_w21_dc1r3_r1_AAACAGCCAGCTCATA                                      Interneuron 1   \n",
       "hft_ctx_w21_dc1r3_r1_AAACATGCACGTTACA  Neuronal intermediate progenitor cell/Glutamat...   \n",
       "\n",
       "                                              Assay  in_GluN_trajectory  \n",
       "hft_ctx_w21_dc1r3_r1_AAACAGCCAGCAATAA  Multiome_RNA                   1  \n",
       "hft_ctx_w21_dc1r3_r1_AAACAGCCAGCTCATA  Multiome_RNA                   0  \n",
       "hft_ctx_w21_dc1r3_r1_AAACATGCACGTTACA  Multiome_RNA                   1  "
      ]
     },
     "execution_count": 22,
     "metadata": {},
     "output_type": "execute_result"
    }
   ],
   "source": [
    "example_df_2"
   ]
  },
  {
   "cell_type": "markdown",
   "id": "surface-elephant",
   "metadata": {},
   "source": [
    "### Converting AnnData to SingleCellExperiment\n",
    "\n",
    "The python package [`anndata2ri`](https://github.com/theislab/anndata2ri) implements a RPy2 converter for single-cell data objects. We can use it to convert an `anndata` object in python to a `SingleCellExperiment` object, usable in R..."
   ]
  },
  {
   "cell_type": "code",
   "execution_count": 23,
   "id": "unlikely-refund",
   "metadata": {},
   "outputs": [
    {
     "name": "stdout",
     "output_type": "stream",
     "text": [
      "class: SingleCellExperiment \n",
      "dim: 34104 8981 \n",
      "metadata(0):\n",
      "assays(1): X\n",
      "rownames(34104): ENSG00000243485 ENSG00000237613 ... ENSG00000198695\n",
      "  ENSG00000198727\n",
      "rowData names(3): gene_id gene_type gene_name\n",
      "colnames(8981): hft_ctx_w21_dc1r3_r1_AAACAGCCAGCAATAA\n",
      "  hft_ctx_w21_dc1r3_r1_AAACAGCCAGCTCATA ...\n",
      "  hft_ctx_w21_dc2r2_r2_TTTGTGAAGACAGGCG\n",
      "  hft_ctx_w21_dc2r2_r2_TTTGTGTTCGTCCTTA\n",
      "colData names(15): Sample.ID Sample.Age ... Assay in_GluN_trajectory\n",
      "reducedDimNames(0):\n",
      "altExpNames(0):\n"
     ]
    }
   ],
   "source": [
    "%%R -i adata\n",
    "adata"
   ]
  },
  {
   "cell_type": "markdown",
   "id": "therapeutic-advancement",
   "metadata": {},
   "source": [
    "...and back."
   ]
  },
  {
   "cell_type": "code",
   "execution_count": 25,
   "id": "virgin-people",
   "metadata": {},
   "outputs": [],
   "source": [
    "%%R -o adata_2\n",
    "adata_2 <- adata\n",
    "colData(adata_2)[['new_coldata']] <- 0"
   ]
  },
  {
   "cell_type": "code",
   "execution_count": 27,
   "id": "dimensional-intake",
   "metadata": {},
   "outputs": [
    {
     "data": {
      "text/html": [
       "<div>\n",
       "<style scoped>\n",
       "    .dataframe tbody tr th:only-of-type {\n",
       "        vertical-align: middle;\n",
       "    }\n",
       "\n",
       "    .dataframe tbody tr th {\n",
       "        vertical-align: top;\n",
       "    }\n",
       "\n",
       "    .dataframe thead th {\n",
       "        text-align: right;\n",
       "    }\n",
       "</style>\n",
       "<table border=\"1\" class=\"dataframe\">\n",
       "  <thead>\n",
       "    <tr style=\"text-align: right;\">\n",
       "      <th></th>\n",
       "      <th>Sample.ID</th>\n",
       "      <th>Sample.Age</th>\n",
       "      <th>Sample.Batch</th>\n",
       "      <th>Cell.Barcode</th>\n",
       "      <th>RNA.Counts</th>\n",
       "      <th>RNA.Features</th>\n",
       "      <th>Dissociation.ID</th>\n",
       "      <th>percentMT</th>\n",
       "      <th>percentRibo</th>\n",
       "      <th>CR_Estimated.number.of.cells</th>\n",
       "      <th>clusterID</th>\n",
       "      <th>cluster_name</th>\n",
       "      <th>cluster_name_long</th>\n",
       "      <th>Assay</th>\n",
       "      <th>in_GluN_trajectory</th>\n",
       "      <th>new_coldata</th>\n",
       "    </tr>\n",
       "  </thead>\n",
       "  <tbody>\n",
       "    <tr>\n",
       "      <th>hft_ctx_w21_dc1r3_r1_AAACAGCCAGCAATAA</th>\n",
       "      <td>hft_ctx_w21_dc1r3_r1</td>\n",
       "      <td>pcw21</td>\n",
       "      <td>b2020_11</td>\n",
       "      <td>AAACAGCCAGCAATAA</td>\n",
       "      <td>2494</td>\n",
       "      <td>1435</td>\n",
       "      <td>A</td>\n",
       "      <td>0.000796</td>\n",
       "      <td>0.017516</td>\n",
       "      <td>3534</td>\n",
       "      <td>c10</td>\n",
       "      <td>GluN5</td>\n",
       "      <td>Glutamatergic neuron 5</td>\n",
       "      <td>Multiome_RNA</td>\n",
       "      <td>1</td>\n",
       "      <td>0.0</td>\n",
       "    </tr>\n",
       "    <tr>\n",
       "      <th>hft_ctx_w21_dc1r3_r1_AAACAGCCAGCTCATA</th>\n",
       "      <td>hft_ctx_w21_dc1r3_r1</td>\n",
       "      <td>pcw21</td>\n",
       "      <td>b2020_11</td>\n",
       "      <td>AAACAGCCAGCTCATA</td>\n",
       "      <td>2257</td>\n",
       "      <td>1288</td>\n",
       "      <td>A</td>\n",
       "      <td>0.012798</td>\n",
       "      <td>0.033098</td>\n",
       "      <td>3534</td>\n",
       "      <td>c2</td>\n",
       "      <td>IN1</td>\n",
       "      <td>Interneuron 1</td>\n",
       "      <td>Multiome_RNA</td>\n",
       "      <td>0</td>\n",
       "      <td>0.0</td>\n",
       "    </tr>\n",
       "    <tr>\n",
       "      <th>hft_ctx_w21_dc1r3_r1_AAACATGCACGTTACA</th>\n",
       "      <td>hft_ctx_w21_dc1r3_r1</td>\n",
       "      <td>pcw21</td>\n",
       "      <td>b2020_11</td>\n",
       "      <td>AAACATGCACGTTACA</td>\n",
       "      <td>3485</td>\n",
       "      <td>1632</td>\n",
       "      <td>A</td>\n",
       "      <td>0.031098</td>\n",
       "      <td>0.039372</td>\n",
       "      <td>3534</td>\n",
       "      <td>c0</td>\n",
       "      <td>nIPC/GluN1</td>\n",
       "      <td>Neuronal intermediate progenitor cell/Glutamat...</td>\n",
       "      <td>Multiome_RNA</td>\n",
       "      <td>1</td>\n",
       "      <td>0.0</td>\n",
       "    </tr>\n",
       "    <tr>\n",
       "      <th>hft_ctx_w21_dc1r3_r1_AAACATGCATAAACCT</th>\n",
       "      <td>hft_ctx_w21_dc1r3_r1</td>\n",
       "      <td>pcw21</td>\n",
       "      <td>b2020_11</td>\n",
       "      <td>AAACATGCATAAACCT</td>\n",
       "      <td>2266</td>\n",
       "      <td>1247</td>\n",
       "      <td>A</td>\n",
       "      <td>0.012319</td>\n",
       "      <td>0.021557</td>\n",
       "      <td>3534</td>\n",
       "      <td>c4</td>\n",
       "      <td>IN2</td>\n",
       "      <td>Interneuron 2</td>\n",
       "      <td>Multiome_RNA</td>\n",
       "      <td>0</td>\n",
       "      <td>0.0</td>\n",
       "    </tr>\n",
       "    <tr>\n",
       "      <th>hft_ctx_w21_dc1r3_r1_AAACATGCATTTAAGC</th>\n",
       "      <td>hft_ctx_w21_dc1r3_r1</td>\n",
       "      <td>pcw21</td>\n",
       "      <td>b2020_11</td>\n",
       "      <td>AAACATGCATTTAAGC</td>\n",
       "      <td>2741</td>\n",
       "      <td>1495</td>\n",
       "      <td>A</td>\n",
       "      <td>0.012341</td>\n",
       "      <td>0.020690</td>\n",
       "      <td>3534</td>\n",
       "      <td>c4</td>\n",
       "      <td>IN2</td>\n",
       "      <td>Interneuron 2</td>\n",
       "      <td>Multiome_RNA</td>\n",
       "      <td>0</td>\n",
       "      <td>0.0</td>\n",
       "    </tr>\n",
       "  </tbody>\n",
       "</table>\n",
       "</div>"
      ],
      "text/plain": [
       "                                                  Sample.ID Sample.Age  \\\n",
       "hft_ctx_w21_dc1r3_r1_AAACAGCCAGCAATAA  hft_ctx_w21_dc1r3_r1      pcw21   \n",
       "hft_ctx_w21_dc1r3_r1_AAACAGCCAGCTCATA  hft_ctx_w21_dc1r3_r1      pcw21   \n",
       "hft_ctx_w21_dc1r3_r1_AAACATGCACGTTACA  hft_ctx_w21_dc1r3_r1      pcw21   \n",
       "hft_ctx_w21_dc1r3_r1_AAACATGCATAAACCT  hft_ctx_w21_dc1r3_r1      pcw21   \n",
       "hft_ctx_w21_dc1r3_r1_AAACATGCATTTAAGC  hft_ctx_w21_dc1r3_r1      pcw21   \n",
       "\n",
       "                                      Sample.Batch      Cell.Barcode  \\\n",
       "hft_ctx_w21_dc1r3_r1_AAACAGCCAGCAATAA     b2020_11  AAACAGCCAGCAATAA   \n",
       "hft_ctx_w21_dc1r3_r1_AAACAGCCAGCTCATA     b2020_11  AAACAGCCAGCTCATA   \n",
       "hft_ctx_w21_dc1r3_r1_AAACATGCACGTTACA     b2020_11  AAACATGCACGTTACA   \n",
       "hft_ctx_w21_dc1r3_r1_AAACATGCATAAACCT     b2020_11  AAACATGCATAAACCT   \n",
       "hft_ctx_w21_dc1r3_r1_AAACATGCATTTAAGC     b2020_11  AAACATGCATTTAAGC   \n",
       "\n",
       "                                       RNA.Counts  RNA.Features  \\\n",
       "hft_ctx_w21_dc1r3_r1_AAACAGCCAGCAATAA        2494          1435   \n",
       "hft_ctx_w21_dc1r3_r1_AAACAGCCAGCTCATA        2257          1288   \n",
       "hft_ctx_w21_dc1r3_r1_AAACATGCACGTTACA        3485          1632   \n",
       "hft_ctx_w21_dc1r3_r1_AAACATGCATAAACCT        2266          1247   \n",
       "hft_ctx_w21_dc1r3_r1_AAACATGCATTTAAGC        2741          1495   \n",
       "\n",
       "                                      Dissociation.ID  percentMT  percentRibo  \\\n",
       "hft_ctx_w21_dc1r3_r1_AAACAGCCAGCAATAA               A   0.000796     0.017516   \n",
       "hft_ctx_w21_dc1r3_r1_AAACAGCCAGCTCATA               A   0.012798     0.033098   \n",
       "hft_ctx_w21_dc1r3_r1_AAACATGCACGTTACA               A   0.031098     0.039372   \n",
       "hft_ctx_w21_dc1r3_r1_AAACATGCATAAACCT               A   0.012319     0.021557   \n",
       "hft_ctx_w21_dc1r3_r1_AAACATGCATTTAAGC               A   0.012341     0.020690   \n",
       "\n",
       "                                       CR_Estimated.number.of.cells clusterID  \\\n",
       "hft_ctx_w21_dc1r3_r1_AAACAGCCAGCAATAA                          3534       c10   \n",
       "hft_ctx_w21_dc1r3_r1_AAACAGCCAGCTCATA                          3534        c2   \n",
       "hft_ctx_w21_dc1r3_r1_AAACATGCACGTTACA                          3534        c0   \n",
       "hft_ctx_w21_dc1r3_r1_AAACATGCATAAACCT                          3534        c4   \n",
       "hft_ctx_w21_dc1r3_r1_AAACATGCATTTAAGC                          3534        c4   \n",
       "\n",
       "                                      cluster_name  \\\n",
       "hft_ctx_w21_dc1r3_r1_AAACAGCCAGCAATAA        GluN5   \n",
       "hft_ctx_w21_dc1r3_r1_AAACAGCCAGCTCATA          IN1   \n",
       "hft_ctx_w21_dc1r3_r1_AAACATGCACGTTACA   nIPC/GluN1   \n",
       "hft_ctx_w21_dc1r3_r1_AAACATGCATAAACCT          IN2   \n",
       "hft_ctx_w21_dc1r3_r1_AAACATGCATTTAAGC          IN2   \n",
       "\n",
       "                                                                       cluster_name_long  \\\n",
       "hft_ctx_w21_dc1r3_r1_AAACAGCCAGCAATAA                             Glutamatergic neuron 5   \n",
       "hft_ctx_w21_dc1r3_r1_AAACAGCCAGCTCATA                                      Interneuron 1   \n",
       "hft_ctx_w21_dc1r3_r1_AAACATGCACGTTACA  Neuronal intermediate progenitor cell/Glutamat...   \n",
       "hft_ctx_w21_dc1r3_r1_AAACATGCATAAACCT                                      Interneuron 2   \n",
       "hft_ctx_w21_dc1r3_r1_AAACATGCATTTAAGC                                      Interneuron 2   \n",
       "\n",
       "                                              Assay  in_GluN_trajectory  \\\n",
       "hft_ctx_w21_dc1r3_r1_AAACAGCCAGCAATAA  Multiome_RNA                   1   \n",
       "hft_ctx_w21_dc1r3_r1_AAACAGCCAGCTCATA  Multiome_RNA                   0   \n",
       "hft_ctx_w21_dc1r3_r1_AAACATGCACGTTACA  Multiome_RNA                   1   \n",
       "hft_ctx_w21_dc1r3_r1_AAACATGCATAAACCT  Multiome_RNA                   0   \n",
       "hft_ctx_w21_dc1r3_r1_AAACATGCATTTAAGC  Multiome_RNA                   0   \n",
       "\n",
       "                                       new_coldata  \n",
       "hft_ctx_w21_dc1r3_r1_AAACAGCCAGCAATAA          0.0  \n",
       "hft_ctx_w21_dc1r3_r1_AAACAGCCAGCTCATA          0.0  \n",
       "hft_ctx_w21_dc1r3_r1_AAACATGCACGTTACA          0.0  \n",
       "hft_ctx_w21_dc1r3_r1_AAACATGCATAAACCT          0.0  \n",
       "hft_ctx_w21_dc1r3_r1_AAACATGCATTTAAGC          0.0  "
      ]
     },
     "execution_count": 27,
     "metadata": {},
     "output_type": "execute_result"
    }
   ],
   "source": [
    "adata_2.obs.head()"
   ]
  },
  {
   "cell_type": "markdown",
   "id": "dirty-absorption",
   "metadata": {},
   "source": [
    "**Troubleshooting:** sometimes `anndata2ri` and `rpy2` can throw cryptic errors. Often the issue is that some of your anndata slots contain objects of a type that is not recognized by rpy2 (i.e. something different from `pd.DataFrame` or `np.array` or `scipy.sparse.csr_matrix`). Often the culprits are the `adata.obsp` or `adata.uns` slots. Since these are not converted to SingleCellExperiment, the easiest solution is often to delete them before conversion"
   ]
  },
  {
   "cell_type": "raw",
   "id": "sealed-guatemala",
   "metadata": {},
   "source": [
    "adata2sce = adata.copy()\n",
    "del adata2sce.obsp[\"distances\"]\n",
    "del adata2sce.obsp[\"connectivities\"]\n",
    "del adata2sce.uns"
   ]
  },
  {
   "cell_type": "raw",
   "id": "perceived-conditions",
   "metadata": {},
   "source": [
    "%%R -i adata2sce\n",
    "adata2sce"
   ]
  },
  {
   "cell_type": "markdown",
   "id": "closing-portal",
   "metadata": {},
   "source": [
    "### Make Seurat object from anndata\n",
    "\n",
    "Here we convert first to SingleCellExperiment, then make a Seurat object manually. While technically Seurat implements a conversion function [as.Seurat](https://www.rdocumentation.org/packages/Seurat/versions/3.1.4/topics/as.Seurat) this is often hard to debug."
   ]
  },
  {
   "cell_type": "code",
   "execution_count": 31,
   "id": "expensive-rough",
   "metadata": {},
   "outputs": [],
   "source": [
    "## Clean anndatas for faster conversion\n",
    "adata2sce = adata.copy()"
   ]
  },
  {
   "cell_type": "code",
   "execution_count": 41,
   "id": "southeast-people",
   "metadata": {},
   "outputs": [],
   "source": [
    "sc.pp.normalize_total(adata2sce, target_sum=1e4)\n",
    "sc.pp.log1p(adata2sce)\n",
    "\n",
    "sc.pp.highly_variable_genes(adata2sce, min_mean=0.02)\n",
    "sc.pp.pca(adata2sce)\n",
    "sc.pp.neighbors(adata2sce, n_neighbors=10, n_pcs=30)\n",
    "sc.tl.umap(adata2sce)"
   ]
  },
  {
   "cell_type": "code",
   "execution_count": 43,
   "id": "incomplete-ecology",
   "metadata": {},
   "outputs": [],
   "source": [
    "del adata2sce.obsp[\"distances\"]\n",
    "del adata2sce.obsp[\"connectivities\"]\n",
    "del adata2sce.uns"
   ]
  },
  {
   "cell_type": "code",
   "execution_count": 44,
   "id": "equipped-conversion",
   "metadata": {},
   "outputs": [
    {
     "name": "stdout",
     "output_type": "stream",
     "text": [
      "class: SingleCellExperiment \n",
      "dim: 34104 8981 \n",
      "metadata(0):\n",
      "assays(1): X\n",
      "rownames(34104): ENSG00000243485 ENSG00000237613 ... ENSG00000198695\n",
      "  ENSG00000198727\n",
      "rowData names(7): gene_id gene_type ... dispersions dispersions_norm\n",
      "colnames(8981): hft_ctx_w21_dc1r3_r1_AAACAGCCAGCAATAA\n",
      "  hft_ctx_w21_dc1r3_r1_AAACAGCCAGCTCATA ...\n",
      "  hft_ctx_w21_dc2r2_r2_TTTGTGAAGACAGGCG\n",
      "  hft_ctx_w21_dc2r2_r2_TTTGTGTTCGTCCTTA\n",
      "colData names(15): Sample.ID Sample.Age ... Assay in_GluN_trajectory\n",
      "reducedDimNames(2): PCA UMAP\n",
      "altExpNames(0):\n"
     ]
    }
   ],
   "source": [
    "%%R -i adata2sce\n",
    "adata2sce"
   ]
  },
  {
   "cell_type": "code",
   "execution_count": 45,
   "id": "boolean-preference",
   "metadata": {},
   "outputs": [
    {
     "name": "stderr",
     "output_type": "stream",
     "text": [
      "R[write to console]: Warning:\n",
      "R[write to console]:  No columnames present in cell embeddings, setting to 'PCA_1:50'\n",
      "\n",
      "R[write to console]: Warning:\n",
      "R[write to console]:  No columnames present in cell embeddings, setting to 'UMAP_1:2'\n",
      "\n"
     ]
    }
   ],
   "source": [
    "%%R\n",
    "library(Seurat)\n",
    "library(Matrix)\n",
    "\n",
    "## Make Seurat object for RNA \n",
    "\n",
    "adata_seu <- CreateSeuratObject(counts=assay(adata2sce, \"X\"), \n",
    "                                      meta.data=data.frame(colData(adata2sce)),\n",
    "                                      project=\"brain_chromatin\")\n",
    "# Convert dimensionality reductions\n",
    "adata_seu[[\"pca\"]] <- CreateDimReducObject(embeddings = reducedDim(adata2sce, \"PCA\"), key = \"PCA_\", assay = DefaultAssay(adata_seu))\n",
    "adata_seu[[\"umap\"]] <- CreateDimReducObject(embeddings = reducedDim(adata2sce, \"UMAP\"), key = \"UMAP_\", assay = DefaultAssay(adata_seu))"
   ]
  },
  {
   "cell_type": "code",
   "execution_count": 46,
   "id": "actual-consistency",
   "metadata": {},
   "outputs": [
    {
     "name": "stdout",
     "output_type": "stream",
     "text": [
      "An object of class Seurat \n",
      "34104 features across 8981 samples within 1 assay \n",
      "Active assay: RNA (34104 features, 0 variable features)\n",
      " 2 dimensional reductions calculated: pca, umap\n"
     ]
    }
   ],
   "source": [
    "%%R\n",
    "adata_seu"
   ]
  },
  {
   "cell_type": "markdown",
   "id": "intellectual-breathing",
   "metadata": {},
   "source": [
    "**Troubleshooting:** if you get the following error:\n",
    "```r\n",
    "Error in as(object = x, Class = \"dgCMatrix\") : \n",
    "  no method or default for coercing “dgRMatrix” to “dgCMatrix”\n",
    "```\n",
    "You might need to convert the sparse matrices in your anndata object to column-oriented sparse matrices before you convert to R"
   ]
  },
  {
   "cell_type": "raw",
   "id": "mature-relaxation",
   "metadata": {},
   "source": [
    "import scipy \n",
    "adata2sce.X = scipy.sparse.csr_matrix(adata2sce.X)"
   ]
  },
  {
   "cell_type": "markdown",
   "id": "answering-heading",
   "metadata": {},
   "source": [
    "### More resources on interoperability\n",
    "\n",
    "- Using scanpy in R https://theislab.github.io/scanpy-in-R/#content\n",
    "- Interoperability with Seurat https://satijalab.org/seurat/articles/conversion_vignette.html"
   ]
  }
 ],
 "metadata": {
  "kernelspec": {
   "display_name": "Python (sc2021-multiomics)",
   "language": "python",
   "name": "sc2021-multiomics"
  },
  "language_info": {
   "codemirror_mode": {
    "name": "ipython",
    "version": 3
   },
   "file_extension": ".py",
   "mimetype": "text/x-python",
   "name": "python",
   "nbconvert_exporter": "python",
   "pygments_lexer": "ipython3",
   "version": "3.9.6"
  }
 },
 "nbformat": 4,
 "nbformat_minor": 5
}
